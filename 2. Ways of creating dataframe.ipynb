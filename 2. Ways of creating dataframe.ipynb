{
 "cells": [
  {
   "cell_type": "markdown",
   "id": "5742b721",
   "metadata": {},
   "source": [
    "# Ways of creating data frame\n",
    "\n",
    "1. Read excel\n",
    "2. Read csv\n",
    "3. Read python dictionary\n",
    "4. Read Tuple list\n",
    "5. Read List of dictionaries\n"
   ]
  }
 ],
 "metadata": {
  "kernelspec": {
   "display_name": "Python 3 (ipykernel)",
   "language": "python",
   "name": "python3"
  },
  "language_info": {
   "codemirror_mode": {
    "name": "ipython",
    "version": 3
   },
   "file_extension": ".py",
   "mimetype": "text/x-python",
   "name": "python",
   "nbconvert_exporter": "python",
   "pygments_lexer": "ipython3",
   "version": "3.9.7"
  }
 },
 "nbformat": 4,
 "nbformat_minor": 5
}
